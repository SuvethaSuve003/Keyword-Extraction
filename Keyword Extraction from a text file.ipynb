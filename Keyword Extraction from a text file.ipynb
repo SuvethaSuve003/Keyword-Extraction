{
 "cells": [
  {
   "cell_type": "markdown",
   "id": "c2771b5a",
   "metadata": {},
   "source": [
    "### Importing necessary packages"
   ]
  },
  {
   "cell_type": "code",
   "execution_count": 1,
   "id": "4e943c09",
   "metadata": {},
   "outputs": [],
   "source": [
    "from flashtext import KeywordProcessor  \n",
    "import os"
   ]
  },
  {
   "cell_type": "markdown",
   "id": "9a884415",
   "metadata": {},
   "source": [
    "### Function definitions"
   ]
  },
  {
   "cell_type": "markdown",
   "id": "d3f83a71",
   "metadata": {},
   "source": [
    "Reading a file \n",
    "- Input parameters - filepath and  filename\n",
    "- output parameters - contents of a file\n",
    "- return type string"
   ]
  },
  {
   "cell_type": "code",
   "execution_count": 2,
   "id": "babf6ada",
   "metadata": {},
   "outputs": [],
   "source": [
    "def read_a_file(textpath, textname):\n",
    "    file = os.path.join(textpath, textname)     #joining the path and a file using os\n",
    "    with open(file , 'r') as file:              #open a file in a read mode\n",
    "        contents = file.read()                  #reading a file\n",
    "        return contents"
   ]
  },
  {
   "cell_type": "markdown",
   "id": "32eacfbf",
   "metadata": {},
   "source": [
    "Extracting keywords\n",
    "- Input paraameters - contents of a file\n",
    "- output parameters - extracted keywords from file\n",
    "- keywordprocessor.extract_keywords() is a inbuilt function to get a keywords\n",
    "- extract_keywords only accepts string\n",
    "- return type list"
   ]
  },
  {
   "cell_type": "code",
   "execution_count": 3,
   "id": "db5b1b91",
   "metadata": {},
   "outputs": [],
   "source": [
    "def extracted_keywords(Text):\n",
    "    Extractedkeywords = keywordprocessor.extract_keywords(Text)     #extracting keywords from text(string)\n",
    "    #print(Extractedkeywords)\n",
    "    return Extractedkeywords"
   ]
  },
  {
   "cell_type": "markdown",
   "id": "7f9b7d9e",
   "metadata": {},
   "source": [
    "Removing duplicates\n",
    "- input parameters - list of extracted keywords\n",
    "- output parameters - from the list of keywords, repetative words are removed\n",
    "- return type - list"
   ]
  },
  {
   "cell_type": "code",
   "execution_count": 4,
   "id": "654098f2",
   "metadata": {},
   "outputs": [],
   "source": [
    "def removing_duplicates(word_duplicate):\n",
    "    word_without_duplicate = list(set(word_duplicate))\n",
    "    return word_without_duplicate"
   ]
  },
  {
   "cell_type": "markdown",
   "id": "2f2e3926",
   "metadata": {},
   "source": [
    "Assigning weights\n",
    "- Input parameters - dictinonary_of_weights and Extractedkeywordss\n",
    "- output parameters - weights \n",
    "- return type dictionary"
   ]
  },
  {
   "cell_type": "code",
   "execution_count": 5,
   "id": "2fbf7538",
   "metadata": {},
   "outputs": [],
   "source": [
    "def assigning_weights(dictinonary_of_weights, Extractedkeywordss):\n",
    "    weights = {}                                        #empty dictionary for storing the appended values\n",
    "    for keys,values in dictinonary_of_weights.items():  #looping through the key and values in the dictinoary \n",
    "        for i in Extractedkeywordss:      #looping through the extracted keywords\n",
    "            if i==keys:                   #comparing the extracted keywords and the keys in the dicti if matches go on.\n",
    "                weights[keys] = values    #storing the values in the empty dictionary\n",
    "    #print(weights)                  \n",
    "    return weights"
   ]
  },
  {
   "cell_type": "markdown",
   "id": "8b6a6f04",
   "metadata": {},
   "source": [
    "Scoring\n",
    "- Input parameters - weights\n",
    "- Output parameters - score\n",
    "- return type - int"
   ]
  },
  {
   "cell_type": "code",
   "execution_count": 6,
   "id": "76187a77",
   "metadata": {},
   "outputs": [],
   "source": [
    "def scoring(weights_of_keywords):\n",
    "    extractedkey_values = weights_of_keywords.values()       #getting the values for summing up\n",
    "    #print(extractedkey_values)\n",
    "    sum_of_score = sum(extractedkey_values)                         #sum the values for score\n",
    "    percentage = (sum_of_score/173)*100\n",
    "    score = round(percentage)\n",
    "    #print(percentage)\n",
    "    return score"
   ]
  },
  {
   "cell_type": "markdown",
   "id": "e1a89081",
   "metadata": {},
   "source": [
    "Keyword processing\n",
    "- add_keyword() to add any type of keywords and get them extracted\n",
    "- Case sensitive is not a problem in flash text\n",
    "- space also not a problem"
   ]
  },
  {
   "cell_type": "code",
   "execution_count": 7,
   "id": "111920dd",
   "metadata": {},
   "outputs": [
    {
     "data": {
      "text/plain": [
       "True"
      ]
     },
     "execution_count": 7,
     "metadata": {},
     "output_type": "execute_result"
    }
   ],
   "source": [
    "keywordprocessor = KeywordProcessor()              #case sensitive is not a problem in flashtext\n",
    "keywordprocessor.add_keyword('mother')             #list of keywords...\n",
    "keywordprocessor.add_keyword('father')\n",
    "keywordprocessor.add_keyword('my mother')\n",
    "keywordprocessor.add_keyword('my father')\n",
    "keywordprocessor.add_keyword('hometown')\n",
    "keywordprocessor.add_keyword('family')\n",
    "keywordprocessor.add_keyword('parents')\n",
    "keywordprocessor.add_keyword('family background')\n",
    "keywordprocessor.add_keyword('family members')\n",
    "keywordprocessor.add_keyword('strengths')\n",
    "keywordprocessor.add_keyword('skills')\n",
    "keywordprocessor.add_keyword('strength')\n",
    "keywordprocessor.add_keyword('my strengths')\n",
    "keywordprocessor.add_keyword('future goal')\n",
    "keywordprocessor.add_keyword('future goals')\n",
    "keywordprocessor.add_keyword('short term goal')\n",
    "keywordprocessor.add_keyword('long term goal')\n",
    "keywordprocessor.add_keyword('short term goal is')\n",
    "keywordprocessor.add_keyword('long term goal is')\n",
    "keywordprocessor.add_keyword('goal is to')\n",
    "keywordprocessor.add_keyword('project')\n",
    "keywordprocessor.add_keyword('my project')\n",
    "keywordprocessor.add_keyword('the project')\n",
    "keywordprocessor.add_keyword('final year project')\n",
    "keywordprocessor.add_keyword('am intrested')\n",
    "keywordprocessor.add_keyword('intrested in')\n",
    "keywordprocessor.add_keyword('useful for')\n",
    "keywordprocessor.add_keyword('it is useful for')\n",
    "keywordprocessor.add_keyword('career')\n",
    "keywordprocessor.add_keyword('career aspirations')\n",
    "keywordprocessor.add_keyword('career aspiration')\n",
    "keywordprocessor.add_keyword('my name is')\n",
    "keywordprocessor.add_keyword('college')"
   ]
  },
  {
   "cell_type": "markdown",
   "id": "1d9a319d",
   "metadata": {},
   "source": [
    "Dictionary of words with priority"
   ]
  },
  {
   "cell_type": "code",
   "execution_count": 8,
   "id": "763ad953",
   "metadata": {},
   "outputs": [],
   "source": [
    "dict_of_keywords = {'mother' : 1,\n",
    "                 'my mother' :1,\n",
    "                 'father' :1,\n",
    "                 'my father' : 1,\n",
    "                 'hometown' : 1,\n",
    "                 'family' :1,\n",
    "                 'parents' :1, \n",
    "                 'family background' :1,\n",
    "                 'family members': 1, \n",
    "                 'skills' : 8, \n",
    "                 'strenghts' :8, \n",
    "                 'strength' :8,\n",
    "                 'my strengths' : 8, \n",
    "                 'future goal' : 9,\n",
    "                 'future goals' :9, \n",
    "                 'short term goal' :9,\n",
    "                 'long term goal' : 9, \n",
    "                 'short term goal is' : 9, \n",
    "                 'long term goal is' : 9, \n",
    "                 'goal is to' : 9, \n",
    "                 'project' : 7, \n",
    "                 'my project' : 7, \n",
    "                 'the project' : 7, \n",
    "                 'final year project' : 7, \n",
    "                 'am intrested' :5, \n",
    "                 'intrested in' : 5, \n",
    "                 'useful for' : 4, \n",
    "                 'it is useful for' : 4, \n",
    "                 'career' : 6, \n",
    "                 'career aspiration': 6, \n",
    "                 'career aspirations' : 6, \n",
    "                 'my  name is' : 2,\n",
    "                 'college' : 3\n",
    "                }                               #dictionary of keywords with weights\n",
    "                                                #high priority value for a high priority keyword\n",
    "    \n",
    "#173 total sum"
   ]
  },
  {
   "cell_type": "markdown",
   "id": "c771c6d1",
   "metadata": {},
   "source": [
    "Assigning the filepath and filename"
   ]
  },
  {
   "cell_type": "code",
   "execution_count": 87,
   "id": "15bcd7aa",
   "metadata": {},
   "outputs": [],
   "source": [
    "filepath = ''                                                     #Path of a file\n",
    "filename = 'transcripts_bhargavigadiga.txt'                           #file name"
   ]
  },
  {
   "cell_type": "markdown",
   "id": "e1e2ea95",
   "metadata": {},
   "source": [
    "### Function call"
   ]
  },
  {
   "cell_type": "code",
   "execution_count": 88,
   "id": "c254ec96",
   "metadata": {},
   "outputs": [],
   "source": [
    "text = read_a_file(filepath, filename)                          #for reading a file"
   ]
  },
  {
   "cell_type": "code",
   "execution_count": 89,
   "id": "6dc50999",
   "metadata": {},
   "outputs": [],
   "source": [
    "extracted_words = extracted_keywords(text)                      #for extracting a keywords\n",
    "#extracted_words"
   ]
  },
  {
   "cell_type": "code",
   "execution_count": 90,
   "id": "2596820c",
   "metadata": {},
   "outputs": [
    {
     "data": {
      "text/plain": [
       "['my father',\n",
       " 'family',\n",
       " 'skills',\n",
       " 'mother',\n",
       " 'final year project',\n",
       " 'goal is to',\n",
       " 'project',\n",
       " 'career',\n",
       " 'my strengths',\n",
       " 'short term goal is',\n",
       " 'the project']"
      ]
     },
     "execution_count": 90,
     "metadata": {},
     "output_type": "execute_result"
    }
   ],
   "source": [
    "without_duplicates = removing_duplicates(extracted_words)\n",
    "without_duplicates"
   ]
  },
  {
   "cell_type": "code",
   "execution_count": 91,
   "id": "3d39b876",
   "metadata": {},
   "outputs": [],
   "source": [
    "Weights = assigning_weights(dict_of_keywords, without_duplicates)  #for assigning the weights\n",
    "#Weights"
   ]
  },
  {
   "cell_type": "code",
   "execution_count": 92,
   "id": "a235e82d",
   "metadata": {},
   "outputs": [
    {
     "data": {
      "text/plain": [
       "37"
      ]
     },
     "execution_count": 92,
     "metadata": {},
     "output_type": "execute_result"
    }
   ],
   "source": [
    "scoring(Weights)                                                #for scoring out of 100"
   ]
  },
  {
   "cell_type": "code",
   "execution_count": null,
   "id": "7b3ae176",
   "metadata": {},
   "outputs": [],
   "source": []
  }
 ],
 "metadata": {
  "kernelspec": {
   "display_name": "Python 3 (ipykernel)",
   "language": "python",
   "name": "python3"
  },
  "language_info": {
   "codemirror_mode": {
    "name": "ipython",
    "version": 3
   },
   "file_extension": ".py",
   "mimetype": "text/x-python",
   "name": "python",
   "nbconvert_exporter": "python",
   "pygments_lexer": "ipython3",
   "version": "3.8.12"
  }
 },
 "nbformat": 4,
 "nbformat_minor": 5
}
